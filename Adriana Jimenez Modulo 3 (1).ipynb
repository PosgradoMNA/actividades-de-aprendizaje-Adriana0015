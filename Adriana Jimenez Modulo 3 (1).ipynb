{
  "metadata": {
    "language_info": {
      "codemirror_mode": {
        "name": "python",
        "version": 3
      },
      "file_extension": ".py",
      "mimetype": "text/x-python",
      "name": "python",
      "nbconvert_exporter": "python",
      "pygments_lexer": "ipython3",
      "version": "3.8"
    },
    "kernelspec": {
      "name": "python",
      "display_name": "Python (Pyodide)",
      "language": "python"
    }
  },
  "nbformat_minor": 4,
  "nbformat": 4,
  "cells": [
    {
      "cell_type": "code",
      "source": "#modulo 3, conditions and branching",
      "metadata": {
        "trusted": true
      },
      "execution_count": 1,
      "outputs": []
    },
    {
      "cell_type": "code",
      "source": "a=6\n6>a",
      "metadata": {
        "trusted": true
      },
      "execution_count": 2,
      "outputs": [
        {
          "execution_count": 2,
          "output_type": "execute_result",
          "data": {
            "text/plain": "False"
          },
          "metadata": {}
        }
      ]
    },
    {
      "cell_type": "code",
      "source": "a>3\n",
      "metadata": {
        "trusted": true
      },
      "execution_count": 3,
      "outputs": [
        {
          "execution_count": 3,
          "output_type": "execute_result",
          "data": {
            "text/plain": "True"
          },
          "metadata": {}
        }
      ]
    },
    {
      "cell_type": "code",
      "source": "#!= inequal, equal in strings ==\n\n\"Wisconsin\" == \"Badgers\"",
      "metadata": {
        "trusted": true
      },
      "execution_count": 8,
      "outputs": [
        {
          "execution_count": 8,
          "output_type": "execute_result",
          "data": {
            "text/plain": "False"
          },
          "metadata": {}
        }
      ]
    },
    {
      "cell_type": "code",
      "source": "\"Wisconsin\" != \"Badgers\"",
      "metadata": {
        "trusted": true
      },
      "execution_count": 9,
      "outputs": [
        {
          "execution_count": 9,
          "output_type": "execute_result",
          "data": {
            "text/plain": "True"
          },
          "metadata": {}
        }
      ]
    },
    {
      "cell_type": "code",
      "source": "#Case if they can cheer at stadium\nA=27\nif(A>21):\n    print (\"You can cheer\" )\n\nelse:\n    print(\"Go to bowling ally\" )\n\nprint(\"move on\" )",
      "metadata": {
        "trusted": true
      },
      "execution_count": 20,
      "outputs": [
        {
          "name": "stdout",
          "text": "You can cheer\nmove on\n",
          "output_type": "stream"
        }
      ]
    },
    {
      "cell_type": "code",
      "source": "#logic operators, Or for boolean values\nZ=2\n\nif(Z>35 or Z!=2):\n    print (\"Older than 35 or different than 2\")\nelse:\n    print (\"this is 2\")\n\n#logic operators, AND\n\nA1=5\nA2=1\nA2>0 and A1<10",
      "metadata": {
        "trusted": true
      },
      "execution_count": 27,
      "outputs": [
        {
          "name": "stdout",
          "text": "this is 2\n",
          "output_type": "stream"
        },
        {
          "execution_count": 27,
          "output_type": "execute_result",
          "data": {
            "text/plain": "True"
          },
          "metadata": {}
        }
      ]
    },
    {
      "cell_type": "code",
      "source": "#logic operators, Or for boolean values\nZ=34\n\nif(Z>35 or Z!=2):\n    print (\"Older than 35 or different than 2\")\nelse:\n    print (\"this is 2\")",
      "metadata": {
        "trusted": true
      },
      "execution_count": 28,
      "outputs": [
        {
          "name": "stdout",
          "text": "Older than 35 or different than 2\n",
          "output_type": "stream"
        }
      ]
    },
    {
      "cell_type": "code",
      "source": "#loops",
      "metadata": {},
      "execution_count": null,
      "outputs": []
    },
    {
      "cell_type": "code",
      "source": "list = [1990,1991,2015] #use list\nN = len(list) #use lenght of list\nprint (N)\nfor i in range(N): #for loop enables to execute block number of times, in this case time the lenght of the list index\n    print(list[i]) ",
      "metadata": {
        "trusted": true
      },
      "execution_count": 3,
      "outputs": [
        {
          "name": "stdout",
          "text": "3\n1990\n1991\n2015\n",
          "output_type": "stream"
        }
      ]
    },
    {
      "cell_type": "code",
      "source": "# Use for loop to change the elements in list\n\ncountries = ['Mexico', 'USA', 'Italy', 'Colombia', 'Norway']\n\nfor i in range(0, 5):\n    print(\"Country before \", i, 'is',  countries[i])\n    countries[i] = 'Other galaxy'\n    print(\"Country after change \", i, 'is',  countries[i])",
      "metadata": {
        "trusted": true
      },
      "execution_count": 5,
      "outputs": [
        {
          "name": "stdout",
          "text": "Country before  0 is Mexico\nCountry after change  0 is Other galaxy\nCountry before  1 is USA\nCountry after change  1 is Other galaxy\nCountry before  2 is Italy\nCountry after change  2 is Other galaxy\nCountry before  3 is Colombia\nCountry after change  3 is Other galaxy\nCountry before  4 is Norway\nCountry after change  4 is Other galaxy\n",
          "output_type": "stream"
        }
      ]
    },
    {
      "cell_type": "code",
      "source": "\n#functions, sorted vs sorts or sum\ndef add1(a): #key word def means define function, then name the function and add in parenthesis formal parameter a\n    b=a+1 #code block\n    return b\n",
      "metadata": {
        "trusted": true
      },
      "execution_count": 14,
      "outputs": []
    },
    {
      "cell_type": "code",
      "source": "def nfl(state, city, team):\n    \n    print(state, city, team)\n    if team > 3:\n        return \"More than 3 teams\"\n    else:\n        return \"Only one team in state\"\n    \nx = nfl(\"NYC\", \"NY\", 2)\nprint(x)",
      "metadata": {
        "trusted": true
      },
      "execution_count": 22,
      "outputs": [
        {
          "name": "stdout",
          "text": "NYC NY 2\nOnly one team in state\n",
          "output_type": "stream"
        }
      ]
    }
  ]
}