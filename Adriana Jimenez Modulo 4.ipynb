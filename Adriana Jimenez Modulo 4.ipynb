{
  "metadata": {
    "language_info": {
      "codemirror_mode": {
        "name": "python",
        "version": 3
      },
      "file_extension": ".py",
      "mimetype": "text/x-python",
      "name": "python",
      "nbconvert_exporter": "python",
      "pygments_lexer": "ipython3",
      "version": "3.8"
    },
    "kernelspec": {
      "name": "python",
      "display_name": "Python (Pyodide)",
      "language": "python"
    }
  },
  "nbformat_minor": 4,
  "nbformat": 4,
  "cells": [
    {
      "cell_type": "markdown",
      "source": "Modulo 4\nAdriana Jimenez A01087695\n\nObjetivos generales: leer archivos con open, escribir archivos con open, subir informacion con Panda y trabajar salvando informacion con Panda\n\n***Leer archivos con la funcion open***\nPara obtener informacion de un archivo de texto txt file, se deben de tener las siguientes variables\nFile project: depende del archivo a leer\nFunction: open\nFile path> contiene file directory, file name y mode\n    Mode: puede ser w: writting, r: reading o a: appending",
      "metadata": {}
    },
    {
      "cell_type": "code",
      "source": "Archivo1= open (\"ReadAdy.txt\",\"r\")",
      "metadata": {
        "trusted": true
      },
      "execution_count": 23,
      "outputs": []
    },
    {
      "cell_type": "markdown",
      "source": "Ejercicio con data attributes\nData attributes por llamar pueden ser:\n    name\n    mode\n    \nNota: debemos asegurarnos de cerrar el archivo con File project.close()\nOtra alternativa es usar with",
      "metadata": {}
    },
    {
      "cell_type": "code",
      "source": "Archivo1.name #para saber nombre del archivo\n",
      "metadata": {
        "trusted": true
      },
      "execution_count": 28,
      "outputs": [
        {
          "execution_count": 28,
          "output_type": "execute_result",
          "data": {
            "text/plain": "'ReadAdy.txt'"
          },
          "metadata": {}
        }
      ]
    },
    {
      "cell_type": "code",
      "source": "Archivo1.mode #para saber modo ",
      "metadata": {
        "trusted": true
      },
      "execution_count": 27,
      "outputs": [
        {
          "execution_count": 27,
          "output_type": "execute_result",
          "data": {
            "text/plain": "'r'"
          },
          "metadata": {}
        }
      ]
    },
    {
      "cell_type": "code",
      "source": "Archivo1.close() #para cerrar archivo",
      "metadata": {
        "trusted": true
      },
      "execution_count": 30,
      "outputs": []
    },
    {
      "cell_type": "markdown",
      "source": "Usando with\nwith open es mejor practica porque cierra automaticamente el archivo posterior a ejecutar el codigo",
      "metadata": {}
    },
    {
      "cell_type": "code",
      "source": "with open (\"ReadAdy.txt\",\"r\") as Archivo1:\n    Datos_archivo=Archivo1.read()\n    print (Datos_archivo) #esta linea lee todos los datos del archivo\n    print(Archivo1.closed)#imprimir para que lea que se cerro archivo",
      "metadata": {
        "trusted": true
      },
      "execution_count": 42,
      "outputs": [
        {
          "name": "stdout",
          "text": "Este es un ejemplo de como leer un archivo\nDesde mi computadora AFJA\nDesde Wisconsin USA\nFalse\n",
          "output_type": "stream"
        }
      ]
    },
    {
      "cell_type": "code",
      "source": "with open (\"ReadAdy.txt\",\"r\") as Archivo1:\n    Datos_archivo=Archivo1.readlines()\n    print (Datos_archivo)\n    print(Archivo1.closed)",
      "metadata": {
        "trusted": true
      },
      "execution_count": 49,
      "outputs": [
        {
          "name": "stdout",
          "text": "['Este es un ejemplo de como leer un archivo\\n', 'Desde mi computadora AFJA\\n', 'Desde Wisconsin USA']\nFalse\n",
          "output_type": "stream"
        }
      ]
    },
    {
      "cell_type": "code",
      "source": "Datos_archivo",
      "metadata": {
        "trusted": true
      },
      "execution_count": 37,
      "outputs": [
        {
          "execution_count": 37,
          "output_type": "execute_result",
          "data": {
            "text/plain": "['Este es un ejemplo de como leer un archivo \\\\n Desde mi computadora AFJA \\\\n Desde Wisconsin USA']"
          },
          "metadata": {}
        }
      ]
    },
    {
      "cell_type": "code",
      "source": "with open (\"ReadAdy.txt\",\"r\") as Archivo1:\n    for line in Archivo1:\n        print (line) #con un loop lee cada linea del archivo\nprint(Archivo1.closed) #al terminar loop cierra archivo",
      "metadata": {
        "trusted": true
      },
      "execution_count": 71,
      "outputs": [
        {
          "name": "stdout",
          "text": "Este es un ejemplo de como leer un archivo\n\nDesde mi computadora AFJA\n\nDesde Wisconsin USA\nTrue\n",
          "output_type": "stream"
        }
      ]
    },
    {
      "cell_type": "code",
      "source": "with open (\"ReadAdy.txt\",\"r\") as Archivo1:\n    Datos_archivo=Archivo1.readlines(20)\n    print (Datos_archivo)\nprint (Archivo1.closed)",
      "metadata": {
        "trusted": true
      },
      "execution_count": null,
      "outputs": []
    },
    {
      "cell_type": "markdown",
      "source": "***Escribir archivo con la funcion Open***\n\nPara escribir informacion a un archivo de texto txt file, se deben de tener las siguientes variables\nFile project: depende del archivo a leer\nFunction: open\nPrimer argumento similar al de leer\nFile path> contiene file directory, file name y mode\nMode: w write\n\n#Archivo2= open (\"WriteAdy.txt\",\"w\")",
      "metadata": {}
    },
    {
      "cell_type": "code",
      "source": "with open (\"WriteAdy.txt\",\"w\") as Archivo2: #aqui se abre el archivo txt en modo write\n    Archivo2.write (\"Este es un ejemplo de como escribir a un archivo \\n\") #primera linea escrita en el archivo\n    Archivo2.write (\"Desde mi computadora AFJA \\n\") #segunda linea escrita en el archivo",
      "metadata": {
        "trusted": true
      },
      "execution_count": null,
      "outputs": []
    },
    {
      "cell_type": "markdown",
      "source": "Esta es la manera de escribir en el archivo en forma de lista",
      "metadata": {}
    },
    {
      "cell_type": "code",
      "source": "Lineas= [\"Este es un ejemplo de como escribir a un archivo \\n\",\"Desde mi computadora AFJA \\n\", \"Desde Wisconsin USA\"]\nwith open (\"WriteAdy3.txt\",\"w\") as Archivo3:\n    for line in Lineas: #esto leera 3 elementos de la variable lineas\n        Archivo3.write(Lineas)   ",
      "metadata": {
        "trusted": true
      },
      "execution_count": null,
      "outputs": []
    },
    {
      "cell_type": "markdown",
      "source": "Modo appended\nno crea un nuevo archivo, sino que abre el mismo y continua donde se quedo",
      "metadata": {}
    },
    {
      "cell_type": "code",
      "source": "with open(\"WriteAdy.txt\",\"a\") as Archivo4:\n    Archivo4.write(\"Desde Wisconsin USA\")",
      "metadata": {
        "trusted": true
      },
      "execution_count": null,
      "outputs": []
    },
    {
      "cell_type": "markdown",
      "source": "Esta es la forma de como copiar informacion de un archivo a otro",
      "metadata": {}
    },
    {
      "cell_type": "code",
      "source": "with open(\"ReadAdy.txt\",\"r\") as Archivoleer:\nwith open(\"EscribeAdy.txt,\"w\") as Archivoescribir:\n          for line in Archivoleer:\n          Archivoescribir.write(line)",
      "metadata": {
        "trusted": true
      },
      "execution_count": null,
      "outputs": []
    },
    {
      "cell_type": "markdown",
      "source": "***Como importar libreria Pandas***\nUsando el comando import se puede traer la libreria Pandas\nLa libreria puede ser abreviada usando 'as' y escribiendo la abreviacion\n\nAl usar esta libreria se puede trabajar con dataframes\nDataframes son columnas e hileras, es similar al uso de dictionary\ndonde los keys son headers y los values son listas correspondientes a las hileras",
      "metadata": {}
    },
    {
      "cell_type": "code",
      "source": "import pandas as pd\n\ndf=pd.DataFrame({'USA':[2016,2017,2018, 2019, 2022, 2021, 2022],'MX':[1990,1991,1992,1993,1994,1995,1996]})\n\ndf.head() # lee los primeros 5 hileras",
      "metadata": {
        "trusted": true
      },
      "execution_count": null,
      "outputs": []
    },
    {
      "cell_type": "markdown",
      "source": "****Trabajando y salvando informacion en Pandas***",
      "metadata": {}
    },
    {
      "cell_type": "code",
      "source": "df['USA'].unique() #metodo usado unique\ndf['USA']>=2020 #boolean values\ndf1=df[df['USA']>=2020]\n\nsave as CCV\ndf1.to_csv('USAyearsabove2020.csv')",
      "metadata": {
        "trusted": true
      },
      "execution_count": null,
      "outputs": []
    }
  ]
}